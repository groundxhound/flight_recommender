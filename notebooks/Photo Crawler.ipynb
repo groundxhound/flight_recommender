{
 "cells": [
  {
   "cell_type": "code",
   "execution_count": 1,
   "metadata": {
    "collapsed": true
   },
   "outputs": [],
   "source": [
    "from recommender.photoapi.unsplash.api import Api\n",
    "from recommender.photoapi.unsplash.auth import Auth\n",
    "\n",
    "client_id = \"023a85f9329604da9abe9b0929938adbbcbb5258442c885173ee30e21df50530\"\n",
    "client_secret = \"910799e2c30c4f91819571992b857a024c2470044e52c01ce155c2cefaaa6750\"\n",
    "redirect_uri = \"urn:ietf:wg:oauth:2.0:oob\"\n",
    "code = \"a28ec046259259c53e4b4111e5399c95e1df28fe643aac495ad243a0a840e8bf\"\n",
    "\n",
    "auth = Auth(client_id, client_secret, redirect_uri, code=code)\n",
    "api = Api(auth)\n",
    "api.user.me()\n",
    "\n",
    "import pandas as pd\n",
    "import os\n",
    "destinations = pd.read_csv(str(os.getcwd() + '//destinations.csv'), sep=';', encoding=\"latin-1\").full_name"
   ]
  },
  {
   "cell_type": "code",
   "execution_count": 2,
   "metadata": {},
   "outputs": [
    {
     "data": {
      "text/plain": [
       "User(id='CsXjAG7Hia8', username='gol', name='Jonas Golde')"
      ]
     },
     "execution_count": 2,
     "metadata": {},
     "output_type": "execute_result"
    }
   ],
   "source": [
    "api.user.me()"
   ]
  },
  {
   "cell_type": "code",
   "execution_count": null,
   "metadata": {
    "scrolled": true
   },
   "outputs": [
    {
     "name": "stdout",
     "output_type": "stream",
     "text": [
      "San Francisco\n",
      "Shanghai\n",
      "Shenyang\n",
      "Singapore\n",
      "Santa Clara\n",
      "San Josï¿½\n",
      "Sofia\n",
      "Split\n",
      "Stockholm\n",
      "Stuttgart\n",
      "Salzburg\n",
      "Tehran\n",
      "Tallinn\n",
      "Toulouse\n",
      "Tel Aviv\n",
      "Tampa\n",
      "Tunis\n",
      "Tokyo\n",
      "Quito\n",
      "Venice\n"
     ]
    }
   ],
   "source": [
    "import urllib.request\n",
    "for city in destinations[126:]:\n",
    "    print(city)\n",
    "    photo_list = api.search.photos(city)\n",
    "    try:\n",
    "        photo_id = str(photo_list['results'][0])[10:-2]\n",
    "        photo_link = \"https://source.unsplash.com/{0}/1600x900\".format(photo_id)\n",
    "        urllib.request.urlretrieve(photo_link, \"{0}.jpg\".format(city))\n",
    "    except:\n",
    "        pass"
   ]
  },
  {
   "cell_type": "code",
   "execution_count": 6,
   "metadata": {},
   "outputs": [
    {
     "data": {
      "text/plain": [
       "126    San Francisco\n",
       "127         Shanghai\n",
       "128         Shenyang\n",
       "129        Singapore\n",
       "130      Santa Clara\n",
       "131       San Josï¿½\n",
       "132            Sofia\n",
       "133            Split\n",
       "134        Stockholm\n",
       "135        Stuttgart\n",
       "136         Salzburg\n",
       "137           Tehran\n",
       "138          Tallinn\n",
       "139         Toulouse\n",
       "140         Tel Aviv\n",
       "141            Tampa\n",
       "142            Tunis\n",
       "143            Tokyo\n",
       "144            Quito\n",
       "145           Venice\n",
       "146           Vienna\n",
       "147         Valencia\n",
       "148          Vilnius\n",
       "149           Verona\n",
       "150       Washington\n",
       "151           Warsaw\n",
       "152         Windhoek\n",
       "153         Montreal\n",
       "154          Toronto\n",
       "155        Vancouver\n",
       "156          Calgary\n",
       "157           Zagreb\n",
       "158           Zurich\n",
       "Name: full_name, dtype: object"
      ]
     },
     "execution_count": 6,
     "metadata": {},
     "output_type": "execute_result"
    }
   ],
   "source": [
    "destinations[126:]"
   ]
  },
  {
   "cell_type": "code",
   "execution_count": null,
   "metadata": {
    "collapsed": true
   },
   "outputs": [],
   "source": []
  }
 ],
 "metadata": {
  "kernelspec": {
   "display_name": "Python 3",
   "language": "python",
   "name": "python3"
  },
  "language_info": {
   "codemirror_mode": {
    "name": "ipython",
    "version": 3
   },
   "file_extension": ".py",
   "mimetype": "text/x-python",
   "name": "python",
   "nbconvert_exporter": "python",
   "pygments_lexer": "ipython3",
   "version": "3.6.3"
  }
 },
 "nbformat": 4,
 "nbformat_minor": 2
}
